{
 "cells": [
  {
   "cell_type": "code",
   "execution_count": 1,
   "id": "d11e1a28",
   "metadata": {},
   "outputs": [],
   "source": [
    "import nltk\n",
    "import gensim\n",
    "import gensim.corpora as corpora\n",
    "import pandas as pd"
   ]
  },
  {
   "cell_type": "code",
   "execution_count": 2,
   "id": "4d27ed6c",
   "metadata": {},
   "outputs": [],
   "source": [
    "# define the corpus\n",
    "data = pd.read_excel('data/contexts.xlsx')\n",
    "corpus = data['contexts']"
   ]
  },
  {
   "cell_type": "code",
   "execution_count": 3,
   "id": "6a64fee0",
   "metadata": {},
   "outputs": [],
   "source": [
    "import pandas as pd\n",
    "from sklearn.feature_extraction.text import CountVectorizer\n",
    "\n",
    "countvec = CountVectorizer()\n",
    "countvecfit = countvec.fit_transform(corpus)\n",
    "bagofwords = pd.DataFrame(countvecfit.toarray(),columns=countvec.get_feature_names_out())\n"
   ]
  },
  {
   "cell_type": "code",
   "execution_count": 4,
   "id": "f00eafca",
   "metadata": {},
   "outputs": [],
   "source": [
    "# get the corpus tokenized\n",
    "corpusTokens = []\n",
    "for text in corpus:\n",
    "  corpusTokens.append(nltk.word_tokenize(text))\n",
    "dictionary = corpora.Dictionary(corpusTokens)"
   ]
  },
  {
   "cell_type": "code",
   "execution_count": 5,
   "id": "bb5431da",
   "metadata": {},
   "outputs": [],
   "source": [
    "indeces = []\n",
    "for word in dictionary:\n",
    "    index =  [i for i, x in enumerate(bagofwords[dictionary[word]]) if x == 1] \n",
    "    indeces.append(index)"
   ]
  },
  {
   "cell_type": "code",
   "execution_count": 6,
   "id": "0d7bf0bb",
   "metadata": {},
   "outputs": [],
   "source": [
    "groups=[]\n",
    "for index in indeces:\n",
    "    if len(index)>1 and len(index)<6:\n",
    "        group = index\n",
    "        groups.append(group)    "
   ]
  },
  {
   "cell_type": "code",
   "execution_count": 7,
   "id": "99d27171",
   "metadata": {},
   "outputs": [],
   "source": [
    "lengroups = len(groups)\n",
    "for i in range(lengroups-1):\n",
    "    j=i\n",
    "    while j < len(groups)-1:\n",
    "        j=j+1\n",
    "        if len(set(groups[i])&set(groups[j]))>0:\n",
    "            groups[i]=list(set(groups[i]+groups[j]))\n",
    "            groups.remove(groups[j])\n",
    "            j=i "
   ]
  },
  {
   "cell_type": "code",
   "execution_count": 8,
   "id": "fc3f80f4",
   "metadata": {},
   "outputs": [],
   "source": [
    "clusters=[]\n",
    "for i in range(len(corpus)):\n",
    "    clusters.append('')"
   ]
  },
  {
   "cell_type": "code",
   "execution_count": 9,
   "id": "ff6c01fd",
   "metadata": {},
   "outputs": [],
   "source": [
    "current=1\n",
    "for g in groups:\n",
    "    for i in range(len(g)):\n",
    "        clusters[g[i]]=current\n",
    "    current = current + 1 "
   ]
  },
  {
   "cell_type": "code",
   "execution_count": 10,
   "id": "252b9cb4",
   "metadata": {
    "scrolled": false
   },
   "outputs": [
    {
     "name": "stdout",
     "output_type": "stream",
     "text": [
      "Clustering to groups based on sense graphs is finished!\n",
      "Check clustering in the excel file at Data\\sensegroups.xlsx\n"
     ]
    }
   ],
   "source": [
    "data['Clusters']=clusters\n",
    "data.to_excel('data/sensegroups.xlsx',index=False)\n",
    "print('Clustering to groups based on sense graphs is finished!')\n",
    "print('Check clustering in the excel file at Data\\\\sensegroups.xlsx')"
   ]
  },
  {
   "cell_type": "code",
   "execution_count": 11,
   "id": "40d68149",
   "metadata": {},
   "outputs": [],
   "source": [
    "#LDA\n",
    "# create bag of words\n",
    "corpus_bow = [dictionary.doc2bow(doc) for doc in corpusTokens]\n",
    "# Make an index to word dictionary.\n",
    "temp = dictionary[0]  # This is only to \"load\" the dictionary.\n",
    "id2word = dictionary.id2token\n",
    "\n",
    "ldaModel = gensim.models.LdaModel(corpus=corpus_bow,id2word=id2word,chunksize=2000,iterations=400,passes=20,num_topics=5)"
   ]
  },
  {
   "cell_type": "code",
   "execution_count": 12,
   "id": "1cc5743b",
   "metadata": {},
   "outputs": [],
   "source": [
    "scores = ldaModel.get_document_topics(corpus_bow[0])\n",
    "max=0\n",
    "ind=0\n",
    "for s in scores:\n",
    "    if s[1]>max:\n",
    "        max=s[1]\n",
    "        ind=s[0]"
   ]
  },
  {
   "cell_type": "code",
   "execution_count": 13,
   "id": "a6b6db5c",
   "metadata": {},
   "outputs": [],
   "source": [
    "groups=[]\n",
    "for doc in corpus_bow:\n",
    "    scores=ldaModel.get_document_topics(doc)\n",
    "    max=0\n",
    "    ind=0\n",
    "    for s in scores:\n",
    "        if s[1]>max:\n",
    "            max=s[1]\n",
    "            ind=s[0]\n",
    "    ind=ind+1        \n",
    "    groups.append(ind)     "
   ]
  },
  {
   "cell_type": "code",
   "execution_count": 14,
   "id": "d1d447e0",
   "metadata": {},
   "outputs": [],
   "source": [
    "data['LDA']=groups\n",
    "data.to_excel('data/LDAgroups.xlsx',index=False)"
   ]
  },
  {
   "cell_type": "code",
   "execution_count": null,
   "id": "0f558a83",
   "metadata": {},
   "outputs": [],
   "source": [
    "print(\"Program finished successfully!!\")\n",
    "print('Check groups based on LDA method with num of groups = 5 in the excel file at data\\LDAgroups.xlsx')"
   ]
  }
 ],
 "metadata": {
  "kernelspec": {
   "display_name": "Python 3 (ipykernel)",
   "language": "python",
   "name": "python3"
  },
  "language_info": {
   "codemirror_mode": {
    "name": "ipython",
    "version": 3
   },
   "file_extension": ".py",
   "mimetype": "text/x-python",
   "name": "python",
   "nbconvert_exporter": "python",
   "pygments_lexer": "ipython3",
   "version": "3.11.5"
  }
 },
 "nbformat": 4,
 "nbformat_minor": 5
}
